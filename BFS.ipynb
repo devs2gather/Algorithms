{
 "cells": [
  {
   "cell_type": "markdown",
   "metadata": {},
   "source": [
    "# Breadth–first search (BFS)\n",
    "-  Breadth–first search (BFS) is an algorithm for traversing or searching tree or graph data structures. \n",
    "- It starts at the tree root (or some arbitrary node of a graph, sometimes referred to as a ‘search key’) and explores the neighbor nodes first before moving to the next-level neighbors.\n",
    "\n",
    "- The following graph shows the order in which the nodes are discovered in BFS:\n",
    "<center>\n",
    "<img src = \"https://www.techiedelight.com/wp-content/uploads/2016/11/Breadth-first-tree.svg_.png\">\n",
    "<center>"
   ]
  },
  {
   "cell_type": "markdown",
   "metadata": {},
   "source": [
    "- Breadth–first search (BFS) is a graph traversal algorithm that explores vertices in the order of their distance from the source vertex, where distance is the minimum length of a path from the source vertex to the node as evident from the above example.\n",
    "\n",
    "## Applications of BFS\n",
    "- Copying garbage collection, Cheney’s algorithm.\n",
    "- Finding the shortest path between two nodes u and v, with path length measured by the total number of edges (an advantage over depth–first search).\n",
    "- Testing a graph for bipartiteness.\n",
    "- Minimum Spanning Tree for an unweighted graph.\n",
    "- Web crawler.\n",
    "- Finding nodes in any connected component of a graph.\n",
    "- Ford–Fulkerson method for computing the maximum flow in a flow network.\n",
    "- Serialization/Deserialization of a binary tree vs. serialization in sorted order allows the tree to be reconstructed efficiently."
   ]
  },
  {
   "cell_type": "markdown",
   "metadata": {},
   "source": [
    "## Recursive Implementation of BFS\n",
    "- The recursive algorithm can be implemented as follows:"
   ]
  },
  {
   "cell_type": "code",
   "execution_count": 1,
   "metadata": {},
   "outputs": [
    {
     "name": "stdout",
     "output_type": "stream",
     "text": [
      "0 1 2 3 4 5 6 7 8 9 10 11 12 13 14 "
     ]
    }
   ],
   "source": [
    "from collections import deque\n",
    " \n",
    " \n",
    "# A class to represent a graph object\n",
    "class Graph:\n",
    "    # Constructor\n",
    "    def __init__(self, edges, n):\n",
    " \n",
    "        # A list of lists to represent an adjacency list\n",
    "        self.adjList = [[] for _ in range(n)]\n",
    " \n",
    "        # add edges to the undirected graph\n",
    "        for (src, dest) in edges:\n",
    "            self.adjList[src].append(dest)\n",
    "            self.adjList[dest].append(src)\n",
    " \n",
    " \n",
    "# Perform BFS recursively on the graph\n",
    "def recursiveBFS(graph, q, discovered):\n",
    " \n",
    "    if not q:\n",
    "        return\n",
    " \n",
    "    # dequeue front node and print it\n",
    "    v = q.popleft()\n",
    "    print(v, end=' ')\n",
    " \n",
    "    # do for every edge (v, u)\n",
    "    for u in graph.adjList[v]:\n",
    "        if not discovered[u]:\n",
    "            # mark it as discovered and enqueue it\n",
    "            discovered[u] = True\n",
    "            q.append(u)\n",
    " \n",
    "    recursiveBFS(graph, q, discovered)\n",
    " \n",
    " \n",
    "if __name__ == '__main__':\n",
    " \n",
    "    # List of graph edges as per the above diagram\n",
    "    edges = [\n",
    "        (1, 2), (1, 3), (1, 4), (2, 5), (2, 6), (5, 9),\n",
    "        (5, 10), (4, 7), (4, 8), (7, 11), (7, 12)\n",
    "        # vertex 0, 13, and 14 are single nodes\n",
    "    ]\n",
    " \n",
    "    # total number of nodes in the graph (labelled from 0 to 14)\n",
    "    n = 15\n",
    " \n",
    "    # build a graph from the given edges\n",
    "    graph = Graph(edges, n)\n",
    " \n",
    "    # to keep track of whether a vertex is discovered or not\n",
    "    discovered = [False] * n\n",
    " \n",
    "    # create a queue for doing BFS\n",
    "    q = deque()\n",
    " \n",
    "    # Perform BFS traversal from all undiscovered nodes to\n",
    "    # cover all connected components of a graph\n",
    "    for i in range(n):\n",
    "        if not discovered[i]:\n",
    "            # mark the source vertex as discovered\n",
    "            discovered[i] = True\n",
    " \n",
    "            # enqueue source vertex\n",
    "            q.append(i)\n",
    " \n",
    "            # start BFS traversal from vertex i\n",
    "            recursiveBFS(graph, q, discovered)"
   ]
  },
  {
   "cell_type": "markdown",
   "metadata": {},
   "source": [
    "- The time complexity of BFS traversal is O(V + E), where V and E are the total number of vertices and edges in the graph, respectively. \n",
    "- Please note that O(E) may vary between O(1) and O(V2), depending on how dense the graph is."
   ]
  }
 ],
 "metadata": {
  "kernelspec": {
   "display_name": "Python 3",
   "language": "python",
   "name": "python3"
  },
  "language_info": {
   "codemirror_mode": {
    "name": "ipython",
    "version": 3
   },
   "file_extension": ".py",
   "mimetype": "text/x-python",
   "name": "python",
   "nbconvert_exporter": "python",
   "pygments_lexer": "ipython3",
   "version": "3.11.4"
  },
  "orig_nbformat": 4
 },
 "nbformat": 4,
 "nbformat_minor": 2
}
